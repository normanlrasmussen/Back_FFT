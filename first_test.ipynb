{
 "cells": [
  {
   "cell_type": "code",
   "execution_count": null,
   "id": "a089a514",
   "metadata": {},
   "outputs": [
    {
     "name": "stdout",
     "output_type": "stream",
     "text": [
      "Recording...\n",
      "Done!\n"
     ]
    }
   ],
   "source": [
    "import sounddevice as sd\n",
    "from scipy.io.wavfile import write"
   ]
  },
  {
   "cell_type": "code",
   "execution_count": null,
   "id": "17217ea6",
   "metadata": {},
   "outputs": [
    {
     "name": "stdout",
     "output_type": "stream",
     "text": [
      "Recording...\n",
      "Done!\n"
     ]
    }
   ],
   "source": [
    "# # Settings\n",
    "# duration = 5  # seconds\n",
    "# fs = 44100    # sample rate (Hz)\n",
    "\n",
    "# print(\"Recording...\")\n",
    "# audio = sd.rec(int(duration * fs), samplerate=fs, channels=1, dtype='int16')\n",
    "# sd.wait()  # Wait until recording is finished\n",
    "# print(\"Done!\")\n",
    "\n",
    "# # Save to WAV file\n",
    "# write(\"test_1.wav\", fs, audio)"
   ]
  }
 ],
 "metadata": {
  "kernelspec": {
   "display_name": ".venv",
   "language": "python",
   "name": "python3"
  },
  "language_info": {
   "codemirror_mode": {
    "name": "ipython",
    "version": 3
   },
   "file_extension": ".py",
   "mimetype": "text/x-python",
   "name": "python",
   "nbconvert_exporter": "python",
   "pygments_lexer": "ipython3",
   "version": "3.13.3"
  }
 },
 "nbformat": 4,
 "nbformat_minor": 5
}
